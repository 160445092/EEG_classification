{
  "nbformat": 4,
  "nbformat_minor": 0,
  "metadata": {
    "colab": {
      "name": "conv2d_0.1.ipynb",
      "provenance": [],
      "authorship_tag": "ABX9TyNCuATi07gBf4PDueA4TdA8",
      "include_colab_link": true
    },
    "kernelspec": {
      "name": "python3",
      "display_name": "Python 3"
    },
    "accelerator": "GPU"
  },
  "cells": [
    {
      "cell_type": "markdown",
      "metadata": {
        "id": "view-in-github",
        "colab_type": "text"
      },
      "source": [
        "<a href=\"https://colab.research.google.com/github/160445092/EEG_classification/blob/main/conv2d_0_1.ipynb\" target=\"_parent\"><img src=\"https://colab.research.google.com/assets/colab-badge.svg\" alt=\"Open In Colab\"/></a>"
      ]
    },
    {
      "cell_type": "code",
      "metadata": {
        "id": "VVpCCUINGdtk",
        "outputId": "82c2de1a-b266-47be-bf38-de4a0209699a",
        "colab": {
          "base_uri": "https://localhost:8080/",
          "height": 34
        }
      },
      "source": [
        "import scipy.io as sio\n",
        "import h5py\n",
        "import numpy as np\n",
        "import tensorflow as tf\n",
        "from google.colab import drive\n",
        "from time import time\n",
        "import matplotlib.pyplot as plt\n",
        "from matplotlib import offsetbox\n",
        "from tensorflow.keras.models import Sequential\n",
        "from tensorflow.keras.layers import Dense\n",
        "from tensorflow.keras.layers import LSTM\n",
        "from tensorflow.keras import layers\n",
        "\n",
        "from sklearn import (manifold, datasets, decomposition, ensemble,\n",
        "                     discriminant_analysis, random_projection)\n",
        "drive.mount('/content/gdrive',force_remount=True)"
      ],
      "execution_count": 1,
      "outputs": [
        {
          "output_type": "stream",
          "text": [
            "Mounted at /content/gdrive\n"
          ],
          "name": "stdout"
        }
      ]
    },
    {
      "cell_type": "code",
      "metadata": {
        "id": "KAw6dlpdvj6k"
      },
      "source": [
        "#ファイルの読み込み\n",
        "def import_data(every=False):\n",
        "    if every:\n",
        "        electrodes = 25\n",
        "    else:\n",
        "        electrodes = 22\n",
        "    X, y = [], []\n",
        "    drive_root_dir=\"./gdrive/My Drive/data\"\n",
        "    for i in range(9):\n",
        "        A01T = h5py.File(drive_root_dir + \"/A0\" + str(i + 1) + 'T_slice.mat', 'r')\n",
        "        X1 = np.copy(A01T['image'])\n",
        "        X.append(X1[:, :electrodes, :])\n",
        "        y1 = np.copy(A01T['type'])\n",
        "        y1 = y1[0, 0:X1.shape[0]:1]\n",
        "        y.append(np.asarray(y1, dtype=np.int32))\n",
        "\n",
        "    for subject in range(9):\n",
        "        delete_list = []\n",
        "        for trial in range(288):\n",
        "            if np.isnan(X[subject][trial, :, :]).sum() > 0:\n",
        "                delete_list.append(trial)\n",
        "        X[subject] = np.delete(X[subject], delete_list, 0)\n",
        "        y[subject] = np.delete(y[subject], delete_list)\n",
        "    y = [y[i] - np.min(y[i]) for i in range(len(y))]\n",
        "    return X, y\n"
      ],
      "execution_count": 2,
      "outputs": []
    },
    {
      "cell_type": "code",
      "metadata": {
        "id": "yxYYMZUlwJCK"
      },
      "source": [
        "#データの変換\n",
        "def train_test_subject(X, y, train_all=True, standardize=True):\n",
        "\n",
        "    l = np.random.permutation(len(X[0]))\n",
        "    X_test = X[0][l[:50], :, :]\n",
        "    y_test = y[0][l[:50]]\n",
        "\n",
        "    if train_all:\n",
        "        X_train = np.concatenate((X[0][l[50:], :, :], X[1], X[2], X[3], X[4], X[5], X[6], X[7], X[8]))\n",
        "        y_train = np.concatenate((y[0][l[50:]], y[1], y[2], y[3], y[4], y[5], y[6], y[7], y[8]))\n",
        "\n",
        "    else:\n",
        "        X_train = X[0][l[50:], :, :]\n",
        "        y_train = y[0][l[50:]]\n",
        "\n",
        "    X_train_mean = X_train.mean(0)\n",
        "    X_train_var = np.sqrt(X_train.var(0))\n",
        "\n",
        "    if standardize:\n",
        "        X_train -= X_train_mean\n",
        "        X_train /= X_train_var\n",
        "        X_test -= X_train_mean\n",
        "        X_test /= X_train_var\n",
        "\n",
        "    X_train = np.transpose(X_train, (0, 2, 1))\n",
        "    X_test = np.transpose(X_test, (0, 2, 1))\n",
        "\n",
        "    return X_train, X_test, y_train, y_test\n"
      ],
      "execution_count": 3,
      "outputs": []
    },
    {
      "cell_type": "code",
      "metadata": {
        "id": "FgLVoUTTwazz"
      },
      "source": [
        "X, y = import_data(every=False)\n",
        "X_train,X_test,y_train,y_test = train_test_subject(X, y)"
      ],
      "execution_count": 4,
      "outputs": []
    },
    {
      "cell_type": "code",
      "metadata": {
        "id": "cesZRj5cxPv0",
        "outputId": "61cc67b1-4c89-48bb-d0a6-c31520ec128d",
        "colab": {
          "base_uri": "https://localhost:8080/",
          "height": 85
        }
      },
      "source": [
        "print ('Training/Valid data shape: {}'.format(X_train.shape))\n",
        "print ('Test data shape: {}'.format(X_test.shape))\n",
        "print ('Training/Valid target shape: {}'.format(y_train.shape))\n",
        "print ('Test target shape: {}'.format(y_test.shape))\n",
        "#print ('Person train/valid shape: {}'.format(person_train_valid.shape))\n",
        "#print ('Person test shape: {}'.format(person_test.shape))"
      ],
      "execution_count": null,
      "outputs": [
        {
          "output_type": "stream",
          "text": [
            "Training/Valid data shape: (2508, 1000, 22)\n",
            "Test data shape: (50, 1000, 22)\n",
            "Training/Valid target shape: (2508,)\n",
            "Test target shape: (50,)\n"
          ],
          "name": "stdout"
        }
      ]
    },
    {
      "cell_type": "code",
      "metadata": {
        "id": "9txCXsjFKDMh",
        "outputId": "d5d8950a-5fc4-4827-8960-8fdbea1dc8e6",
        "colab": {
          "base_uri": "https://localhost:8080/",
          "height": 85
        }
      },
      "source": [
        "x_train = X_train.reshape(X_train.shape[0], X_train.shape[1], 1, X_train.shape[2])\n",
        "x_test = X_test.reshape(X_test.shape[0], X_test.shape[1], 1, X_test.shape[2])\n",
        "y_train = tf.keras.utils.to_categorical(y_train, 4)\n",
        "y_test = tf.keras.utils.to_categorical(y_test, 4)\n",
        "print ('Training/Valid data shape: {}'.format(x_train.shape))\n",
        "print ('Test data shape: {}'.format(x_test.shape))\n",
        "print ('Training/Valid target shape: {}'.format(y_train.shape))\n",
        "print ('Test target shape: {}'.format(y_test.shape))"
      ],
      "execution_count": 15,
      "outputs": [
        {
          "output_type": "stream",
          "text": [
            "Training/Valid data shape: (2508, 1000, 1, 22)\n",
            "Test data shape: (50, 1000, 1, 22)\n",
            "Training/Valid target shape: (2508, 4)\n",
            "Test target shape: (50, 4)\n"
          ],
          "name": "stdout"
        }
      ]
    },
    {
      "cell_type": "code",
      "metadata": {
        "id": "8O-eaj96I1bn",
        "outputId": "f2c76946-c42c-4503-8d3f-86335b8c36f0",
        "colab": {
          "base_uri": "https://localhost:8080/",
          "height": 68
        }
      },
      "source": [
        "from keras import regularizers as reg\n",
        "from keras.layers import Conv1D,Conv2D,MaxPooling1D,Flatten,Dense,Dropout,BatchNormalization, GRU, LSTM, RNN\n",
        "import matplotlib.pyplot as plt\n",
        "\n",
        "learning_rate_list = [1e-4, 5e-4, 1e-3]\n",
        "model_list         = []\n",
        "cmax               = 0 \n",
        "\n",
        "for learning_rate in learning_rate_list:\n",
        "    model = tf.keras.Sequential()\n",
        "    model.add(tf.keras.layers.Conv2D(filters=25, kernel_size=(10,1), padding='same', activation='elu', input_shape=(1000,1,22))) \n",
        "    model.add(tf.keras.layers.MaxPooling2D(pool_size=(3,1), strides = (3,1)))\n",
        "    model.add(tf.keras.layers.Flatten())\n",
        "    model.add(tf.keras.layers.Dense(4, activation='softmax'))\n",
        "\n",
        "    optimizer = tf.keras.optimizers.Adam(lr=learning_rate)\n",
        "    model.compile(loss='categorical_crossentropy',\n",
        "                 optimizer=optimizer,\n",
        "                 metrics=['accuracy'])\n",
        "#    model.summary()\n",
        "    model.fit(x_train,\n",
        "             y_train,\n",
        "             batch_size=64,\n",
        "             epochs=50,\n",
        "             validation_data=(x_test, y_test), verbose=False)\n",
        "    score = model.evaluate(x_test, y_test, verbose=0)\n",
        "    if(score[1]>cmax):\n",
        "      cmax = score[1]\n",
        "      parameters =  learning_rate\n",
        "      model_max  = model\n",
        "    model_list.append(model)\n",
        "\n",
        "print (\"Optimal learning rate: \" +str(parameters) )\n",
        "\n",
        "score = model_max.evaluate(x_test, y_test, verbose=0)\n",
        "# Print test accuracy\n",
        "print('\\n', 'Validation accuracy overall w/o dropout bn:', score[1]) \n",
        "\n"
      ],
      "execution_count": 16,
      "outputs": [
        {
          "output_type": "stream",
          "text": [
            "Optimal learning rate: 0.0001\n",
            "\n",
            " Validation accuracy overall w/o dropout bn: 0.41999998688697815\n"
          ],
          "name": "stdout"
        }
      ]
    },
    {
      "cell_type": "code",
      "metadata": {
        "id": "TBuS8TsnJQ5N",
        "outputId": "56f5232b-44e0-40e2-a484-5826e344f421",
        "colab": {
          "base_uri": "https://localhost:8080/",
          "height": 1000
        }
      },
      "source": [
        "cnn(conv_layers=2,conv_sizes=(64,64),fc_layers=3,fc_sizes=(1024,512,256))"
      ],
      "execution_count": null,
      "outputs": [
        {
          "output_type": "stream",
          "text": [
            "Model: \"sequential_4\"\n",
            "_________________________________________________________________\n",
            "Layer (type)                 Output Shape              Param #   \n",
            "=================================================================\n",
            "conv1d_8 (Conv1D)            (None, 998, 64)           4288      \n",
            "_________________________________________________________________\n",
            "batch_normalization_8 (Batch (None, 998, 64)           256       \n",
            "_________________________________________________________________\n",
            "max_pooling1d_8 (MaxPooling1 (None, 499, 64)           0         \n",
            "_________________________________________________________________\n",
            "conv1d_9 (Conv1D)            (None, 497, 64)           12352     \n",
            "_________________________________________________________________\n",
            "batch_normalization_9 (Batch (None, 497, 64)           256       \n",
            "_________________________________________________________________\n",
            "max_pooling1d_9 (MaxPooling1 (None, 248, 64)           0         \n",
            "_________________________________________________________________\n",
            "flatten_4 (Flatten)          (None, 15872)             0         \n",
            "_________________________________________________________________\n",
            "dense_16 (Dense)             (None, 1024)              16253952  \n",
            "_________________________________________________________________\n",
            "dropout_12 (Dropout)         (None, 1024)              0         \n",
            "_________________________________________________________________\n",
            "dense_17 (Dense)             (None, 512)               524800    \n",
            "_________________________________________________________________\n",
            "dropout_13 (Dropout)         (None, 512)               0         \n",
            "_________________________________________________________________\n",
            "dense_18 (Dense)             (None, 256)               131328    \n",
            "_________________________________________________________________\n",
            "dropout_14 (Dropout)         (None, 256)               0         \n",
            "_________________________________________________________________\n",
            "dense_19 (Dense)             (None, 4)                 1028      \n",
            "=================================================================\n",
            "Total params: 16,928,260\n",
            "Trainable params: 16,928,004\n",
            "Non-trainable params: 256\n",
            "_________________________________________________________________\n",
            "Epoch 1/50\n",
            "40/40 [==============================] - 1s 23ms/step - loss: 161.2696 - accuracy: 0.2811 - val_loss: 113.1908 - val_accuracy: 0.2600\n",
            "Epoch 2/50\n",
            "40/40 [==============================] - 1s 19ms/step - loss: 80.9818 - accuracy: 0.3126 - val_loss: 53.6367 - val_accuracy: 0.2800\n",
            "Epoch 3/50\n",
            "40/40 [==============================] - 1s 18ms/step - loss: 40.2606 - accuracy: 0.3824 - val_loss: 29.3805 - val_accuracy: 0.2800\n",
            "Epoch 4/50\n",
            "40/40 [==============================] - 1s 18ms/step - loss: 23.5332 - accuracy: 0.4274 - val_loss: 18.6548 - val_accuracy: 0.3200\n",
            "Epoch 5/50\n",
            "40/40 [==============================] - 1s 19ms/step - loss: 15.4742 - accuracy: 0.5191 - val_loss: 12.9758 - val_accuracy: 0.3000\n",
            "Epoch 6/50\n",
            "40/40 [==============================] - 1s 19ms/step - loss: 10.9161 - accuracy: 0.6033 - val_loss: 9.6904 - val_accuracy: 0.3200\n",
            "Epoch 7/50\n",
            "40/40 [==============================] - 1s 18ms/step - loss: 8.2624 - accuracy: 0.6635 - val_loss: 7.7776 - val_accuracy: 0.4000\n",
            "Epoch 8/50\n",
            "40/40 [==============================] - 1s 18ms/step - loss: 6.4284 - accuracy: 0.7121 - val_loss: 6.3694 - val_accuracy: 0.3600\n",
            "Epoch 9/50\n",
            "40/40 [==============================] - 1s 18ms/step - loss: 5.4609 - accuracy: 0.7030 - val_loss: 5.3179 - val_accuracy: 0.4000\n",
            "Epoch 10/50\n",
            "40/40 [==============================] - 1s 18ms/step - loss: 4.4276 - accuracy: 0.7368 - val_loss: 4.6686 - val_accuracy: 0.5000\n",
            "Epoch 11/50\n",
            "40/40 [==============================] - 1s 18ms/step - loss: 4.1263 - accuracy: 0.7205 - val_loss: 4.1041 - val_accuracy: 0.4800\n",
            "Epoch 12/50\n",
            "40/40 [==============================] - 1s 18ms/step - loss: 3.4803 - accuracy: 0.7608 - val_loss: 4.0587 - val_accuracy: 0.4200\n",
            "Epoch 13/50\n",
            "40/40 [==============================] - 1s 18ms/step - loss: 3.5548 - accuracy: 0.7169 - val_loss: 3.8054 - val_accuracy: 0.3800\n",
            "Epoch 14/50\n",
            "40/40 [==============================] - 1s 18ms/step - loss: 3.0669 - accuracy: 0.7600 - val_loss: 3.7442 - val_accuracy: 0.5200\n",
            "Epoch 15/50\n",
            "40/40 [==============================] - 1s 18ms/step - loss: 3.4829 - accuracy: 0.7376 - val_loss: 3.6237 - val_accuracy: 0.5800\n",
            "Epoch 16/50\n",
            "40/40 [==============================] - 1s 19ms/step - loss: 3.0620 - accuracy: 0.7484 - val_loss: 3.6044 - val_accuracy: 0.5000\n",
            "Epoch 17/50\n",
            "40/40 [==============================] - 1s 18ms/step - loss: 3.1089 - accuracy: 0.7460 - val_loss: 3.4517 - val_accuracy: 0.5000\n",
            "Epoch 18/50\n",
            "40/40 [==============================] - 1s 18ms/step - loss: 2.8326 - accuracy: 0.7616 - val_loss: 3.7344 - val_accuracy: 0.4400\n",
            "Epoch 19/50\n",
            "40/40 [==============================] - 1s 18ms/step - loss: 3.0290 - accuracy: 0.7596 - val_loss: 3.5129 - val_accuracy: 0.5600\n",
            "Epoch 20/50\n",
            "40/40 [==============================] - 1s 19ms/step - loss: 2.9702 - accuracy: 0.7743 - val_loss: 3.5710 - val_accuracy: 0.5000\n",
            "Epoch 21/50\n",
            "40/40 [==============================] - 1s 18ms/step - loss: 3.2637 - accuracy: 0.7257 - val_loss: 3.8221 - val_accuracy: 0.4600\n",
            "Epoch 22/50\n",
            "40/40 [==============================] - 1s 19ms/step - loss: 3.1463 - accuracy: 0.7675 - val_loss: 3.6747 - val_accuracy: 0.4000\n",
            "Epoch 23/50\n",
            "40/40 [==============================] - 1s 19ms/step - loss: 2.9664 - accuracy: 0.7576 - val_loss: 3.6810 - val_accuracy: 0.5200\n",
            "Epoch 24/50\n",
            "40/40 [==============================] - 1s 18ms/step - loss: 3.0538 - accuracy: 0.7791 - val_loss: 4.0190 - val_accuracy: 0.3800\n",
            "Epoch 25/50\n",
            "40/40 [==============================] - 1s 18ms/step - loss: 3.2240 - accuracy: 0.7795 - val_loss: 3.6662 - val_accuracy: 0.5200\n",
            "Epoch 26/50\n",
            "40/40 [==============================] - 1s 18ms/step - loss: 3.0184 - accuracy: 0.7775 - val_loss: 3.9525 - val_accuracy: 0.3800\n",
            "Epoch 27/50\n",
            "40/40 [==============================] - 1s 19ms/step - loss: 3.3833 - accuracy: 0.7504 - val_loss: 3.7465 - val_accuracy: 0.4800\n",
            "Epoch 28/50\n",
            "40/40 [==============================] - 1s 18ms/step - loss: 3.2651 - accuracy: 0.7687 - val_loss: 3.9323 - val_accuracy: 0.5200\n",
            "Epoch 29/50\n",
            "40/40 [==============================] - 1s 19ms/step - loss: 3.3955 - accuracy: 0.7540 - val_loss: 4.0447 - val_accuracy: 0.4600\n",
            "Epoch 30/50\n",
            "40/40 [==============================] - 1s 19ms/step - loss: 3.1341 - accuracy: 0.7847 - val_loss: 3.8370 - val_accuracy: 0.4200\n",
            "Epoch 31/50\n",
            "40/40 [==============================] - 1s 18ms/step - loss: 3.1243 - accuracy: 0.7891 - val_loss: 3.9008 - val_accuracy: 0.4600\n",
            "Epoch 32/50\n",
            "40/40 [==============================] - 1s 19ms/step - loss: 3.2536 - accuracy: 0.7951 - val_loss: 4.1505 - val_accuracy: 0.4000\n",
            "Epoch 33/50\n",
            "40/40 [==============================] - 1s 18ms/step - loss: 3.2668 - accuracy: 0.7751 - val_loss: 3.9519 - val_accuracy: 0.4800\n",
            "Epoch 34/50\n",
            "40/40 [==============================] - 1s 18ms/step - loss: 3.0736 - accuracy: 0.7990 - val_loss: 3.7736 - val_accuracy: 0.4200\n",
            "Epoch 35/50\n",
            "40/40 [==============================] - 1s 18ms/step - loss: 3.0259 - accuracy: 0.7887 - val_loss: 3.7191 - val_accuracy: 0.5600\n",
            "Epoch 36/50\n",
            "40/40 [==============================] - 1s 19ms/step - loss: 3.0649 - accuracy: 0.8094 - val_loss: 3.7679 - val_accuracy: 0.5000\n",
            "Epoch 37/50\n",
            "40/40 [==============================] - 1s 18ms/step - loss: 3.4668 - accuracy: 0.7644 - val_loss: 4.1190 - val_accuracy: 0.4000\n",
            "Epoch 38/50\n",
            "40/40 [==============================] - 1s 18ms/step - loss: 3.0584 - accuracy: 0.8254 - val_loss: 4.1409 - val_accuracy: 0.3800\n",
            "Epoch 39/50\n",
            "40/40 [==============================] - 1s 19ms/step - loss: 3.1412 - accuracy: 0.8142 - val_loss: 3.9441 - val_accuracy: 0.4200\n",
            "Epoch 40/50\n",
            "40/40 [==============================] - 1s 18ms/step - loss: 3.1714 - accuracy: 0.8122 - val_loss: 3.8979 - val_accuracy: 0.5000\n",
            "Epoch 41/50\n",
            "40/40 [==============================] - 1s 18ms/step - loss: 3.3054 - accuracy: 0.7915 - val_loss: 3.8313 - val_accuracy: 0.4800\n",
            "Epoch 42/50\n",
            "40/40 [==============================] - 1s 19ms/step - loss: 2.8480 - accuracy: 0.8309 - val_loss: 3.7728 - val_accuracy: 0.4800\n",
            "Epoch 43/50\n",
            "40/40 [==============================] - 1s 18ms/step - loss: 3.1117 - accuracy: 0.7998 - val_loss: 3.9017 - val_accuracy: 0.5000\n",
            "Epoch 44/50\n",
            "40/40 [==============================] - 1s 19ms/step - loss: 3.2487 - accuracy: 0.7959 - val_loss: 4.0873 - val_accuracy: 0.4400\n",
            "Epoch 45/50\n",
            "40/40 [==============================] - 1s 19ms/step - loss: 2.9723 - accuracy: 0.8162 - val_loss: 3.8196 - val_accuracy: 0.5000\n",
            "Epoch 46/50\n",
            "40/40 [==============================] - 1s 19ms/step - loss: 3.2760 - accuracy: 0.7974 - val_loss: 3.8274 - val_accuracy: 0.5400\n",
            "Epoch 47/50\n",
            "40/40 [==============================] - 1s 19ms/step - loss: 2.8806 - accuracy: 0.8274 - val_loss: 3.7167 - val_accuracy: 0.5000\n",
            "Epoch 48/50\n",
            "40/40 [==============================] - 1s 19ms/step - loss: 2.9960 - accuracy: 0.8214 - val_loss: 3.9849 - val_accuracy: 0.4600\n",
            "Epoch 49/50\n",
            "40/40 [==============================] - 1s 19ms/step - loss: 2.8123 - accuracy: 0.8381 - val_loss: 3.6748 - val_accuracy: 0.4800\n",
            "Epoch 50/50\n",
            "40/40 [==============================] - 1s 18ms/step - loss: 3.0189 - accuracy: 0.8250 - val_loss: 3.7941 - val_accuracy: 0.4400\n"
          ],
          "name": "stdout"
        },
        {
          "output_type": "display_data",
          "data": {
            "image/png": "[encoded data removed]",
            "text/plain": [
              "<Figure size 432x288 with 1 Axes>"
            ]
          },
          "metadata": {
            "tags": [],
            "needs_background": "light"
          }
        },
        {
          "output_type": "display_data",
          "data": {
            "image/png": "[encoded data removed]",
            "text/plain": [
              "<Figure size 432x288 with 1 Axes>"
            ]
          },
          "metadata": {
            "tags": [],
            "needs_background": "light"
          }
        }
      ]
    },
    {
      "cell_type": "code",
      "metadata": {
        "id": "nzQKpIe-paI2",
        "outputId": "5eebeda4-d717-4caa-de42-a3875f6622c3",
        "colab": {
          "base_uri": "https://localhost:8080/",
          "height": 202
        }
      },
      "source": [
        "X, y = import_data(every=False)\n",
        "X_train,X_test,y_train,y_test = train_test_subject(X, y)\n",
        "cnn_plot(conv_layers=2,conv_sizes=(64,128),fc_layers=3,fc_sizes=(1024,512,256))"
      ],
      "execution_count": null,
      "outputs": [
        {
          "output_type": "error",
          "ename": "NameError",
          "evalue": "ignored",
          "traceback": [
            "\u001b[0;31m---------------------------------------------------------------------------\u001b[0m",
            "\u001b[0;31mNameError\u001b[0m                                 Traceback (most recent call last)",
            "\u001b[0;32m<ipython-input-8-d1b031471b35>\u001b[0m in \u001b[0;36m<module>\u001b[0;34m()\u001b[0m\n\u001b[1;32m      1\u001b[0m \u001b[0mX\u001b[0m\u001b[0;34m,\u001b[0m \u001b[0my\u001b[0m \u001b[0;34m=\u001b[0m \u001b[0mimport_data\u001b[0m\u001b[0;34m(\u001b[0m\u001b[0mevery\u001b[0m\u001b[0;34m=\u001b[0m\u001b[0;32mFalse\u001b[0m\u001b[0;34m)\u001b[0m\u001b[0;34m\u001b[0m\u001b[0;34m\u001b[0m\u001b[0m\n\u001b[1;32m      2\u001b[0m \u001b[0mX_train\u001b[0m\u001b[0;34m,\u001b[0m\u001b[0mX_test\u001b[0m\u001b[0;34m,\u001b[0m\u001b[0my_train\u001b[0m\u001b[0;34m,\u001b[0m\u001b[0my_test\u001b[0m \u001b[0;34m=\u001b[0m \u001b[0mtrain_test_subject\u001b[0m\u001b[0;34m(\u001b[0m\u001b[0mX\u001b[0m\u001b[0;34m,\u001b[0m \u001b[0my\u001b[0m\u001b[0;34m)\u001b[0m\u001b[0;34m\u001b[0m\u001b[0;34m\u001b[0m\u001b[0m\n\u001b[0;32m----> 3\u001b[0;31m \u001b[0mcnn_plot\u001b[0m\u001b[0;34m(\u001b[0m\u001b[0mconv_layers\u001b[0m\u001b[0;34m=\u001b[0m\u001b[0;36m2\u001b[0m\u001b[0;34m,\u001b[0m\u001b[0mconv_sizes\u001b[0m\u001b[0;34m=\u001b[0m\u001b[0;34m(\u001b[0m\u001b[0;36m64\u001b[0m\u001b[0;34m,\u001b[0m\u001b[0;36m128\u001b[0m\u001b[0;34m)\u001b[0m\u001b[0;34m,\u001b[0m\u001b[0mfc_layers\u001b[0m\u001b[0;34m=\u001b[0m\u001b[0;36m3\u001b[0m\u001b[0;34m,\u001b[0m\u001b[0mfc_sizes\u001b[0m\u001b[0;34m=\u001b[0m\u001b[0;34m(\u001b[0m\u001b[0;36m1024\u001b[0m\u001b[0;34m,\u001b[0m\u001b[0;36m512\u001b[0m\u001b[0;34m,\u001b[0m\u001b[0;36m256\u001b[0m\u001b[0;34m)\u001b[0m\u001b[0;34m)\u001b[0m\u001b[0;34m\u001b[0m\u001b[0;34m\u001b[0m\u001b[0m\n\u001b[0m",
            "\u001b[0;31mNameError\u001b[0m: name 'cnn_plot' is not defined"
          ]
        }
      ]
    },
    {
      "cell_type": "code",
      "metadata": {
        "id": "DLiJ582hvcdt",
        "outputId": "04d8843b-6bdc-4728-e07a-a1a91ebb1003",
        "colab": {
          "base_uri": "https://localhost:8080/",
          "height": 34
        }
      },
      "source": [
        "print(X_train.shape[1:])"
      ],
      "execution_count": null,
      "outputs": [
        {
          "output_type": "stream",
          "text": [
            "(1000, 22)\n"
          ],
          "name": "stdout"
        }
      ]
    }
  ]
}